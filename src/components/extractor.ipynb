{
 "cells": [
  {
   "cell_type": "code",
   "execution_count": null,
   "metadata": {},
   "outputs": [
    {
     "name": "stdout",
     "output_type": "stream",
     "text": [
      "Names have been extracted and saved with single quotes to 'output_names.txt'.\n"
     ]
    }
   ],
   "source": [
    "import pandas as pd\n",
    "\n",
    "# Load the Excel file\n",
    "file_path = 'cities_list.xlsx'\n",
    "df = pd.read_excel(file_path)\n",
    "\n",
    "name_column = df['name']\n",
    "name_list = name_column.tolist()\n",
    "\n",
    "\n",
    "# Step 4: Save the list to a new file (e.g., a .txt file)\n",
    "with open('output_names.txt', 'w') as f:\n",
    "    f.write(str(name_list))  # Write the list as a string\n",
    "\n",
    "# If you prefer to save it as a JSON file, you can do:\n",
    "import json\n",
    "with open('output_names.json', 'w') as f:\n",
    "    json.dump(name_list, f)\n",
    "\n",
    "print(\"Names have been extracted and saved to 'output_names.txt' or 'output_names.json'.\")"
   ]
  }
 ],
 "metadata": {
  "kernelspec": {
   "display_name": "base",
   "language": "python",
   "name": "python3"
  },
  "language_info": {
   "codemirror_mode": {
    "name": "ipython",
    "version": 3
   },
   "file_extension": ".py",
   "mimetype": "text/x-python",
   "name": "python",
   "nbconvert_exporter": "python",
   "pygments_lexer": "ipython3",
   "version": "3.12.2"
  }
 },
 "nbformat": 4,
 "nbformat_minor": 2
}
